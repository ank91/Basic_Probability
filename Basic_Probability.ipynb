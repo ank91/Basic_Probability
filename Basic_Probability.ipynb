{
 "cells": [
  {
   "cell_type": "markdown",
   "metadata": {
    "slideshow": {
     "slide_type": "slide"
    }
   },
   "source": [
    "# Basic Probability\n",
    "A very brief review \n",
    "### Frank Bautista\n",
    "Universidad Nacional "
   ]
  },
  {
   "cell_type": "markdown",
   "metadata": {
    "slideshow": {
     "slide_type": "slide"
    }
   },
   "source": [
    "## Sample Space\n",
    "***\n",
    "- All possible outcomes from a random experiment.\n",
    "- The set of all possible outcomes of an experiment is called the sample space for the experiment.\n",
    "***\n",
    "If it has as many points as there are natural numbers $1, 2, 3, . . . $, it is called a _countably infinite sample space_. If it has as many points as there are in some interval on the x axis, such as $0 \\leq x \\leq 1$, it is called a _noncountably infinite sample space_\n"
   ]
  },
  {
   "cell_type": "markdown",
   "metadata": {
    "slideshow": {
     "slide_type": "subslide"
    }
   },
   "source": [
    "Some examples \n",
    "\n",
    "e.g. _For rolling a six-sided die, we can use the set_ A _compuned by_ $\\text{A}=\\{1,2,3,4,5,6\\}$\n",
    "\n",
    "e.g. _If we toss a coin twice and use 0 to represent tails and 1 to represent heads, the sample space_\n",
    "\n",
    "![title](images/example0.png)\n"
   ]
  },
  {
   "cell_type": "markdown",
   "metadata": {
    "slideshow": {
     "slide_type": "slide"
    }
   },
   "source": [
    "## Event\n",
    "***\n",
    "An event is a subset of the sample space, could be a sample point in the sample space. So: \n",
    "***\n",
    "e.g. _For rolling a six-sided die twice, with sample space $\\text{A}=\\{1,2,3,4,5,6\\}$, the event could be obtain \n",
    "\n",
    "$$\\text{B}=\\{1,2\\}, \\text{C}=\\{1,3\\},\\text{D}=\\{1,4\\},...N={6,6}$$"
   ]
  },
  {
   "cell_type": "markdown",
   "metadata": {
    "slideshow": {
     "slide_type": "subslide"
    }
   },
   "source": [
    "e.g. _If we toss a coin twice, the event that only one head comes up is the subset of the sample space that\n",
    "consists of points_ (0, 1) _and_ (1, 0)\n",
    "\n",
    "![title](images/example1-1.png)\n",
    "\n",
    "<img src=\"images/example0.png\",style=\"height:50px\">"
   ]
  },
  {
   "cell_type": "code",
   "execution_count": 4,
   "metadata": {
    "slideshow": {
     "slide_type": "skip"
    }
   },
   "outputs": [
    {
     "data": {
      "image/png": "[encoded data removed]",
      "text/plain": [
       "<IPython.core.display.Image object>"
      ]
     },
     "execution_count": 4,
     "metadata": {
      "image/png": {
       "height": 200,
       "width": 2000
      }
     },
     "output_type": "execute_result"
    }
   ],
   "source": [
    "from IPython.display import Image\n",
    "Image(\"images/example1-1.png\", width=2000, height=200)"
   ]
  },
  {
   "cell_type": "markdown",
   "metadata": {
    "slideshow": {
     "slide_type": "subslide"
    }
   },
   "source": [
    "### some important relations ... \n",
    "\n",
    "As particular events, we have S itself, which is the sure or certain event since an element of S must occur, and\n",
    "the empty set $\\emptyset$ , which is called the impossible event because an element of $\\emptyset$ cannot occur.\n",
    "By using set operations on events in S, we can obtain other events in S. For example, if A and B are events, then\n",
    "\n",
    "1. A $\\cup$ B is the event “either A or B or both” A $\\cup$ B is called the union of A and B.\n",
    "2. A $\\cap$ B is the event “both A and B.” A $\\cap$ B is called the intersection of A and B.\n",
    "3. A$^{\\prime}$ is the event “not A.” A$^{\\prime}$ is called the complement of A.\n",
    "4. If the sets corresponding to events A and B are disjoint, i.e., A $\\cap$ B $= \\emptyset $, we often say that the events are mutually exclusive.\n",
    "\n",
    "![title](images/example1-1.png)\n"
   ]
  },
  {
   "cell_type": "markdown",
   "metadata": {
    "slideshow": {
     "slide_type": "slide"
    }
   },
   "source": [
    "## Probability\n",
    "\n",
    "In any random experiment there is always uncertainty as to whether a particular event A will or will not occur. As\n",
    "a measure of the chance, or **probability P(A)**. In other words is a quantitative measure of how likely the event is to occur\n",
    "\n",
    "- $0\\leq$P(A)$\\leq 1$ \n",
    "- Classic approach P(A)$=\\frac{A}{n}$, where $n$ is the namber of repetitios. "
   ]
  },
  {
   "cell_type": "code",
   "execution_count": null,
   "metadata": {},
   "outputs": [],
   "source": []
  }
 ],
 "metadata": {
  "celltoolbar": "Slideshow",
  "kernelspec": {
   "display_name": "Python 3",
   "language": "python",
   "name": "python3"
  },
  "language_info": {
   "codemirror_mode": {
    "name": "ipython",
    "version": 3
   },
   "file_extension": ".py",
   "mimetype": "text/x-python",
   "name": "python",
   "nbconvert_exporter": "python",
   "pygments_lexer": "ipython3",
   "version": "3.6.4"
  },
  "rise": {
   "height": "90%",
   "theme": "serif",
   "transition": "zoom",
   "width": "120%"
  }
 },
 "nbformat": 4,
 "nbformat_minor": 2
}
