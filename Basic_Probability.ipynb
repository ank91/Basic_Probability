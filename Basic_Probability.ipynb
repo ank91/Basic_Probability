{
 "cells": [
  {
   "cell_type": "markdown",
   "metadata": {
    "slideshow": {
     "slide_type": "slide"
    }
   },
   "source": [
    "# Basic Probability\n",
    "A very brief review \n",
    "### Frank Bautista\n",
    "Universidad Nacional "
   ]
  },
  {
   "cell_type": "markdown",
   "metadata": {
    "slideshow": {
     "slide_type": "slide"
    }
   },
   "source": [
    "## Sample Space\n",
    "***\n",
    "- All possible outcomes from a random experiment.\n",
    "- The set of all possible outcomes of an experiment is called the sample space for the experiment.\n",
    "***\n",
    "\n",
    "If it has as many points as there are natural numbers $1, 2, 3, . . . $, it is called a _countably infinite sample space_. If it has as many points as there are in some interval on the x axis, such as $0 \\leq x \\leq 1$, it is called a _noncountably infinite sample space_\n"
   ]
  },
  {
   "attachments": {},
   "cell_type": "markdown",
   "metadata": {
    "slideshow": {
     "slide_type": "subslide"
    }
   },
   "source": [
    "Some examples \n",
    "\n",
    "**e.g.** _For rolling a six-sided die, we can use the set_ A _compuned by_ $\\text{A}=\\{1,2,3,4,5,6\\}$\n",
    "\n",
    "**e.g.** _If we toss a coin twice and use 0 to represent tails and 1 to represent heads, the sample space_\n",
    "\n",
    "<center><img src=\"images/example0.png\" width=400px></center>"
   ]
  },
  {
   "cell_type": "code",
   "execution_count": 12,
   "metadata": {
    "slideshow": {
     "slide_type": "skip"
    }
   },
   "outputs": [],
   "source": [
    "from IPython.display import Image\n",
    "#Image(\"images/example0.png\", width=200, height=200)"
   ]
  },
  {
   "cell_type": "markdown",
   "metadata": {
    "slideshow": {
     "slide_type": "slide"
    }
   },
   "source": [
    "## Event\n",
    "***\n",
    "An event is a subset of the sample space, could be a sample point in the sample space. So: \n",
    "***\n",
    "**e.g.** _For rolling a six-sided die twice, with sample space $\\text{A}=\\{1,2,3,4,5,6\\}$, the event could be obtain \n",
    "\n",
    "$$\\text{B}=\\{1,2\\}, \\text{C}=\\{1,3\\},\\text{D}=\\{1,4\\},...N={6,6}$$"
   ]
  },
  {
   "attachments": {},
   "cell_type": "markdown",
   "metadata": {
    "slideshow": {
     "slide_type": "subslide"
    }
   },
   "source": [
    "**e.g.** _If we toss a coin twice, the event that only one head comes up is the subset of the sample space that\n",
    "consists of points_ (0, 1) _and_ (1, 0)\n",
    "\n",
    "<center><img src=\"images/example1.png\" width=400px></center>"
   ]
  },
  {
   "cell_type": "code",
   "execution_count": 13,
   "metadata": {
    "slideshow": {
     "slide_type": "skip"
    }
   },
   "outputs": [],
   "source": [
    "from IPython.display import Image\n",
    "#Image(\"images/example1.png\", width=200, height=200)"
   ]
  },
  {
   "attachments": {},
   "cell_type": "markdown",
   "metadata": {
    "slideshow": {
     "slide_type": "subslide"
    }
   },
   "source": [
    "### some important relations ... \n",
    "\n",
    "As particular events, we have S itself, which is the sure or certain event since an element of S must occur, and\n",
    "the empty set $\\emptyset$ , which is called the impossible event because an element of $\\emptyset$ cannot occur.\n",
    "By using set operations on events in S, we can obtain other events in S. For example, if A and B are events, then\n",
    "\n",
    "1. A $\\cup$ B is the event “either A or B or both” A $\\cup$ B is called the union of A and B.\n",
    "2. A $\\cap$ B is the event “both A and B.” A $\\cap$ B is called the intersection of A and B.\n",
    "3. A$^{\\prime}$ is the event “not A.” A$^{\\prime}$ is called the complement of A.\n",
    "4. If the sets corresponding to events A and B are disjoint, i.e., A $\\cap$ B $= \\emptyset $, we often say that the events are mutually exclusive.\n",
    "\n",
    "<center><img src=\"images/example2.png\" width=700px></center>"
   ]
  },
  {
   "cell_type": "markdown",
   "metadata": {
    "slideshow": {
     "slide_type": "slide"
    }
   },
   "source": [
    "## Probability\n",
    "\n",
    "In any random experiment there is always uncertainty as to whether a particular event A will or will not occur. As\n",
    "a measure of the chance, or **probability P(A)**. In other words is a quantitative measure of how likely the event is to occur\n",
    "\n",
    "- If an event can occur in h different ways out of a total number of $n$ possible ways, all of which are equally likely, then the probability of the event is $h \\geq n$\n",
    "- Classic approach P(A)$=\\frac{n}{h}$, where $h$ is the number of repetitios. \n",
    "- If after n repetitions of an experiment, where n is very large, an event is observed to occur in h of these, then the probability of the event is $h \\geq n$. This is also called the empirical probability of the event.\n",
    "\n",
    "In other words, a population from which an item is sampled at random can be thought of as a sample space with equally likely outcomes."
   ]
  },
  {
   "cell_type": "markdown",
   "metadata": {
    "slideshow": {
     "slide_type": "subslide"
    }
   },
   "source": [
    "### Axioms \n",
    "\n",
    "These are some important axioms, \n",
    "\n",
    "<div class=\"alert alert-block alert-info\">\n",
    "<b>0.</b> The probability of a simple event A, $$\\text{P(A)} \\geq 0.$$\n",
    "<b>1.</b> The probability of a sample space S, $$\\text{P(S)}=1.$$\n",
    "<b>2.</b> The probability of a no one event $$\\text{P(}\\emptyset)=0$$\n",
    "<b>3.</b> For an event A, from a sample space, the probability $$0\\leq \\text{P(A)}\\leq 1.$$\n",
    "<b>4.</b> If A$^{\\prime}$ is the complement of an event A, then $$\\text{P(A}^{\\prime})=1-\\text{A}.$$ \n",
    "<b>5.</b> For events mutually exclusive events A, B, C, ... The probability $$\\text{P(A}\\cup \\text{B} \\cup \\text{C }...)=\\text{P(A)}+\\text{P(B)}+\\text{P(C)}...$$ \n",
    "</div>"
   ]
  },
  {
   "cell_type": "markdown",
   "metadata": {
    "slideshow": {
     "slide_type": "subslide"
    }
   },
   "source": [
    "#### e.g:  \n",
    "A target on a test firing range consists of a bull’s-eye with two concentric rings around it. A projectile is fired at the target. The probability that it hits the bull’s-eye is $0.10$, the probability that it hits the inner ring is $0.25$, and the probability that it hits the outer ring is $0.45$. \n",
    "\n",
    "**What is the probability that the projectile hits the target? What is the probability that it misses the target?**\n",
    "\n",
    "Hitting the bull’s-eye, hitting the inner ring, and hitting the outer ring are mutually exclusive events, since it is impossible for more than one of these events to occur, so, \n",
    "\n",
    "\\begin{align} \n",
    "\\text{P(target)} &= \\text{P(bull’s-eye)}+\\text{P(inner ring)}+\\text{P(outer ring)} \\\\\n",
    "&= 0.10 + 0.25 + 0.45\\\\\n",
    "&=0.80\n",
    "\\end{align} \n",
    "\n",
    "So, the probability that the projectile misses,\n",
    "\n",
    "\\begin{align} \n",
    "\\text{P(miss target)} &= 1 - \\text{P(target)} \\\\\n",
    "&=1-0.80\\\\\n",
    "&=0.2.\n",
    "\\end{align} "
   ]
  },
  {
   "cell_type": "markdown",
   "metadata": {},
   "source": [
    "But, if A and B are any two events non-mutually excusive, then\n",
    "\n",
    "<div class=\"alert alert-block alert-warning\">\n",
    "$$\\text{P(A}\\cup\\text{B)}=\\text{P(A)}+\\text{P(B)}-\\text{P(A}\\cap\\text{B)}.$$\n",
    "<center><img src=\"images/example3.png\" width=700px></center>\n",
    "</div>\n",
    "\n"
   ]
  },
  {
   "cell_type": "markdown",
   "metadata": {
    "slideshow": {
     "slide_type": "subslide"
    }
   },
   "source": [
    "#### e.g:  \n",
    "In a process that manufactures aluminum cans, the probability that a can has a flaw on it's side is $0.02$, the probability that a can has a flaw on the top is $0.03$, and the probability that a can has a flaw on both the side and the top is $0.01$. \n",
    "\n",
    "**What is the probability that a randomly chosen can has a flaw? What is the probability that it has no flaw?**\n",
    "\n",
    "We are given that P(flaw on side) $= 0.02$, P(flaw on top) $= 0.03$, and P(flaw on side and flaw on top) $= 0.01$. Now P(flaw) $=$ P(flaw on side or flaw on top), so\n",
    "\n",
    "$$\\text{P()}$$"
   ]
  },
  {
   "cell_type": "code",
   "execution_count": null,
   "metadata": {},
   "outputs": [],
   "source": []
  }
 ],
 "metadata": {
  "celltoolbar": "Slideshow",
  "kernelspec": {
   "display_name": "Python 3",
   "language": "python",
   "name": "python3"
  },
  "language_info": {
   "codemirror_mode": {
    "name": "ipython",
    "version": 3
   },
   "file_extension": ".py",
   "mimetype": "text/x-python",
   "name": "python",
   "nbconvert_exporter": "python",
   "pygments_lexer": "ipython3",
   "version": "3.6.4"
  },
  "livereveal": {
   "theme": "sky"
  },
  "rise": {
   "height": "90%",
   "theme": "sky",
   "transition": "zoom",
   "width": "120%"
  }
 },
 "nbformat": 4,
 "nbformat_minor": 2
}
