{
 "cells": [
  {
   "cell_type": "markdown",
   "metadata": {
    "slideshow": {
     "slide_type": "slide"
    }
   },
   "source": [
    "# Basic Probability\n",
    "A very brief review \n",
    "### Frank Bautista\n",
    "Universidad Nacional "
   ]
  },
  {
   "cell_type": "markdown",
   "metadata": {
    "slideshow": {
     "slide_type": "slide"
    }
   },
   "source": [
    "## Sample Space\n",
    "***\n",
    "- All possible outcomes from a random experiment.\n",
    "- The set of all possible outcomes of an experiment is called the sample space for the experiment.\n",
    "***\n",
    "\n",
    "If it has as many points as there are natural numbers $1, 2, 3, . . . $, it is called a _countably infinite sample space_. If it has as many points as there are in some interval on the x axis, such as $0 \\leq x \\leq 1$, it is called a _noncountably infinite sample space_\n"
   ]
  },
  {
   "cell_type": "markdown",
   "metadata": {
    "slideshow": {
     "slide_type": "subslide"
    }
   },
   "source": [
    "Some examples \n",
    "\n",
    "**e.g.** _For rolling a six-sided die, we can use the set_ A _compuned by_ $\\text{A}=\\{1,2,3,4,5,6\\}$\n",
    "\n",
    "**e.g.** _If we toss a coin twice and use 0 to represent tails and 1 to represent heads, the sample space_\n",
    "\n",
    "<center><img src=\"images/example0.png\" width=400px></center>"
   ]
  },
  {
   "cell_type": "code",
   "execution_count": 1,
   "metadata": {
    "slideshow": {
     "slide_type": "skip"
    }
   },
   "outputs": [],
   "source": [
    "from IPython.display import Image\n",
    "#Image(\"images/example0.png\", width=200, height=200)"
   ]
  },
  {
   "cell_type": "markdown",
   "metadata": {
    "slideshow": {
     "slide_type": "slide"
    }
   },
   "source": [
    "## Event\n",
    "***\n",
    "An event is a subset of the sample space, could be a sample point in the sample space. So: \n",
    "***\n",
    "**e.g.** _For rolling a six-sided die twice, with sample space $\\text{A}=\\{1,2,3,4,5,6\\}$, the event could be obtain \n",
    "\n",
    "$$\\text{B}=\\{1,2\\}, \\text{C}=\\{1,3\\},\\text{D}=\\{1,4\\},...N={6,6}$$"
   ]
  },
  {
   "cell_type": "markdown",
   "metadata": {
    "slideshow": {
     "slide_type": "subslide"
    }
   },
   "source": [
    "**e.g.** _If we toss a coin twice, the event that only one head comes up is the subset of the sample space that\n",
    "consists of points_ (0, 1) _and_ (1, 0)\n",
    "\n",
    "<center><img src=\"images/example1.png\" width=400px></center>"
   ]
  },
  {
   "cell_type": "code",
   "execution_count": 2,
   "metadata": {
    "slideshow": {
     "slide_type": "skip"
    }
   },
   "outputs": [],
   "source": [
    "from IPython.display import Image\n",
    "#Image(\"images/example1.png\", width=200, height=200)"
   ]
  },
  {
   "cell_type": "markdown",
   "metadata": {
    "slideshow": {
     "slide_type": "subslide"
    }
   },
   "source": [
    "### some important relations ... \n",
    "\n",
    "As particular events, we have S itself, which is the sure or certain event since an element of S must occur, and\n",
    "the empty set $\\emptyset$ , which is called the impossible event because an element of $\\emptyset$ cannot occur.\n",
    "By using set operations on events in S, we can obtain other events in S. For example, if A and B are events, then\n",
    "***\n",
    "1. A $\\cup$ B is the event “either A or B or both” A $\\cup$ B is called the union of A and B.\n",
    "2. A $\\cap$ B is the event “both A and B.” A $\\cap$ B is called the intersection of A and B.\n",
    "3. A$^{\\prime}$ is the event “not A.” A$^{\\prime}$ is called the complement of A.\n",
    "4. If the sets corresponding to events A and B are disjoint, i.e., A $\\cap$ B $= \\emptyset $, we often say that the events are mutually exclusive.\n",
    "***\n",
    "<center><img src=\"images/example2.png\" width=700px></center>"
   ]
  },
  {
   "cell_type": "markdown",
   "metadata": {
    "slideshow": {
     "slide_type": "slide"
    }
   },
   "source": [
    "## Probability\n",
    "***\n",
    "In any random experiment there is always uncertainty as to whether a particular event A will or will not occur. As\n",
    "a measure of the chance, or **probability P(A)**. In other words is a quantitative measure of how likely the event is to occur\n",
    "***\n",
    "- If an event can occur in h different ways out of a total number of $n$ possible ways, all of which are equally likely, then the probability of the event is $h \\geq n$\n",
    "- Classic approach P(A)$=\\frac{n}{h}$, where $h$ is the number of repetitios. \n",
    "- If after n repetitions of an experiment, where n is very large, an event is observed to occur in h of these, then the probability of the event is $h \\geq n$. This is also called the empirical probability of the event.\n",
    "\n",
    "In other words, a population from which an item is sampled at random can be thought of as a sample space with equally likely outcomes."
   ]
  },
  {
   "cell_type": "markdown",
   "metadata": {
    "slideshow": {
     "slide_type": "subslide"
    }
   },
   "source": [
    "### Axioms \n",
    "***\n",
    "These are some important axioms, \n",
    "\n",
    "<div class=\"alert alert-block alert-info\">\n",
    "<b>0.</b> The probability of a simple event A,\n",
    "\n",
    "\\begin{equation}\n",
    "\\text{P(A)} \\geq 0\n",
    "\\end{equation}\n",
    "\n",
    "<b>1.</b> The probability of a sample space S,\n",
    "\n",
    "\\begin{equation}\n",
    "\\text{P(S)}=1.\n",
    "\\end{equation}\n",
    "\n",
    "<b>2.</b> The probability of a no one event,\n",
    "\n",
    "\\begin{equation}\n",
    "\\text{P(}\\emptyset)=0\n",
    "\\end{equation}\n",
    "\n",
    "<b>3.</b> For an event A, from a sample space, the probability,\n",
    "\n",
    "\\begin{equation}\n",
    "0\\leq \\text{P(A)}\\leq 1.\n",
    "\\end{equation}\n",
    "\n",
    "<b>4.</b> If A$^{\\prime}$ is the complement of an event A, then \n",
    "\n",
    "\\begin{equation}\n",
    "\\text{P(A}^{\\prime})=1-\\text{P(A)}.\n",
    "\\end{equation}\n",
    "\n",
    "<b>5.</b> For events mutually exclusive events A, B, C, ... The probability \n",
    "\n",
    "\\begin{equation}\n",
    "\\text{P(A}\\cup \\text{B} \\cup \\text{C }...)=\\text{P(A)}+\\text{P(B)}+\\text{P(C)}...\n",
    "\\end{equation}\n",
    "</div>"
   ]
  },
  {
   "cell_type": "markdown",
   "metadata": {
    "slideshow": {
     "slide_type": "subslide"
    }
   },
   "source": [
    "**e.g.** A target on a test firing range consists of a bull’s-eye with two concentric rings around it. A projectile is fired at the target. The probability that it hits the bull’s-eye is $0.10$, the probability that it hits the inner ring is $0.25$, and the probability that it hits the outer ring is $0.45$. \n",
    "\n",
    "**What is the probability that the projectile hits the target? What is the probability that it misses the target?**\n",
    "\n",
    "Hitting the bull’s-eye, hitting the inner ring, and hitting the outer ring are mutually exclusive events, since it is impossible for more than one of these events to occur, so, \n",
    "\n",
    "\\begin{align} \n",
    "\\text{P(target)} &= \\text{P(bull’s-eye)}+\\text{P(inner ring)}+\\text{P(outer ring)} \\\\\n",
    "&= 0.10 + 0.25 + 0.45\\\\\n",
    "&=0.80\n",
    "\\end{align} \n",
    "\n",
    "So, the probability that the projectile misses,\n",
    "\n",
    "\\begin{align} \n",
    "\\text{P(miss target)} &= 1 - \\text{P(target)} \\\\\n",
    "&=1-0.80\\\\\n",
    "&=0.2.\n",
    "\\end{align} "
   ]
  },
  {
   "cell_type": "markdown",
   "metadata": {
    "slideshow": {
     "slide_type": "subslide"
    }
   },
   "source": [
    "But, if A and B are any two events non-mutually excusive, then\n",
    "\n",
    "<div class=\"alert alert-block alert-warning\">\n",
    "$$\\text{P(A}\\cup\\text{B)}=\\text{P(A)}+\\text{P(B)}-\\text{P(A}\\cap\\text{B)}.\\\\$$\n",
    "    \n",
    "    \n",
    "<center><img src=\"images/example3.png\" width=800px></center>\n",
    "</div>\n",
    "\n"
   ]
  },
  {
   "cell_type": "markdown",
   "metadata": {
    "slideshow": {
     "slide_type": "subslide"
    }
   },
   "source": [
    "**e.g***: In a process that manufactures aluminum cans, the probability that a can has a flaw on it's side is $0.02$, the probability that a can has a flaw on the top is $0.03$, and the probability that a can has a flaw on both the side and the top is $0.01$. \n",
    "\n",
    "**What is the probability that a randomly chosen can has a flaw? What is the probability that it has no flaw?**\n",
    "\n",
    "We are given that P(flaw on side) $= 0.02$, P(flaw on top) $= 0.03$, and P(flaw on side and flaw on top) $= 0.01$. Now P(flaw) $=$ P(flaw on side or flaw on top), so"
   ]
  },
  {
   "cell_type": "markdown",
   "metadata": {
    "slideshow": {
     "slide_type": "subslide"
    }
   },
   "source": [
    "### Conditional Probability \n",
    "***\n",
    "A probability that is based on a part of a sample space is called a conditional probability\n",
    "***\n",
    "\n",
    "Let A and B be events with P(B)$\\neq0$. The conditional probability of A given B is\n",
    "\n",
    "<div class=\"alert alert-block alert-warning\">\n",
    "$$\\text{P(A|B)}=\\frac{\\text{P(A} \\cap \\text{B)}}{\\text{P(B)}}\\\\$$\n",
    "\n",
    "<center><img src=\"images/example4.png\" width=700px></center>\n",
    "</div>\n",
    "\n",
    "**e.g.** A group of 100 sports car buyers, 40 bought alarm systems, 30 purchased bucket seats, and 20 purchased an alarm system and bucket seats. If a car buyer chosen at random bought an alarm system, **what is the probability they also bought bucket seats?**"
   ]
  },
  {
   "cell_type": "markdown",
   "metadata": {
    "slideshow": {
     "slide_type": "subslide"
    }
   },
   "source": [
    "#### ... Remember\n",
    "\n",
    "Sometimes the knowledge that one event has occurred does not change the probability that another event occurs. In this case the conditional and unconditional probabilities are the same, and the events are said to be independent.\n",
    "\n",
    "- When two events are independent, then P(A|B) = P(A) and P(B|A) = P(B)\n",
    "- P(A $\\cap$ B) = P(A)P(B)"
   ]
  },
  {
   "cell_type": "markdown",
   "metadata": {
    "slideshow": {
     "slide_type": "subslide"
    }
   },
   "source": [
    "### Law of Total Probability\n",
    "***\n",
    "Sometimes the knowledge that one event has occurred does not change the probability that another event occurs. In this case the conditional and unconditional probabilities are the same, and the events are said to be independent.\n",
    "***\n",
    "<center><img src=\"images/example5.png\" width=700px></center>\n",
    "\n",
    "The probability of the B event is calculated as addition of intersections,\n",
    "\n",
    "\\begin{equation}\n",
    "\\text{P(B)} = \\text{P(A}_1\\ \\cap \\text{B)} + \\text{P(A}_2\\ \\cap \\text{B)} + \\text{P(A_3}\\ \\cap \\text{B)} + P(A_4\\ \\cap B)\n",
    "\\end{equation}"
   ]
  },
  {
   "cell_type": "markdown",
   "metadata": {
    "slideshow": {
     "slide_type": "subslide"
    }
   },
   "source": [
    "<div style=\"text-align: left\">\n",
    "\n",
    "</div>    \n",
    "</font><img style=\"float: right;\" src=\"images\\example5.png\" width=450px>\n",
    "\n",
    "But remember the conditional probability:  P(A$_i \\cap$ B) = P(B|A$_i$)P(A$_i$), so we have:\n",
    "\n",
    "\\begin{equation}\n",
    "\\text{P(B)} = \\text{P(B|A}_1)\\text{P(A}_1) + \\text{P(B|A}_2\\text{)P(A}_2) +\\text{P(B|A}_3\\text{)P(A}_3) + \\text{P(B|A}_4\\text{)P(A}_4\\text{)}\n",
    "\\end{equation}\n",
    "\n",
    "generalizing, \n",
    "\n",
    "\n",
    "<font color='red'>\n",
    "\\begin{equation}\\\\\n",
    "\\boxed{\\text{P(B)}=\\sum_{i}\\text{P(A}_{i}|\\text{B)}\\text{P(A}_{i})}\n",
    "\\end{equation}"
   ]
  },
  {
   "cell_type": "markdown",
   "metadata": {
    "slideshow": {
     "slide_type": "subslide"
    }
   },
   "source": [
    "**e.g.** Customers who purchase a certain make of car can order an engine in any of three sizes. Of all cars sold, 45% have the smallest engine, 35% have the medium-sized one, and 20% have the largest. Of cars with the smallest engine, 10% fail an emissions test within two years of purchase, while 12% of those with the medium size and 15% of those with the largest engine fail. **What is the probability that a randomly chosen car will fail an emissions test within two years?**\n",
    "\n",
    "Let B denote the event that a car fails an emissions test within two years. Let A 1 denote the event that a car has a small engine, A 2 the event that a car has a medium-size engine, and A 3 the event that a car has a large engine. P(A$_1$) $= 0.45$, P(A$_2$) $= 0.35$ and P(A$_3$) $= 0.20$.\n",
    "\n",
    "$$\\text{P(B|A}_1)=0.10,\\ \\text{P(B|A}_2)=0.12, \\text{ and P(B|A}_3\\text{)}=0.15.$$\n",
    "\n",
    "so, \n",
    "\n",
    "\\begin{align}\n",
    "\\text{P(B)} &= \\text{P(B|A}_1)\\text{P(A}_1) + \\text{P(B|A}_2\\text{)P(A}_2) +\\text{P(B|A}_3\\text{)P(A}_3)\\\\\n",
    "&=(0.10)(0.45) + (0.12)(0.35) + (0.15)(0.20)\\\\\n",
    "&=0.117\n",
    "\\end{align}"
   ]
  },
  {
   "cell_type": "markdown",
   "metadata": {
    "slideshow": {
     "slide_type": "slide"
    }
   },
   "source": [
    "## Counting \n",
    "***\n",
    "The $mn$ Rule:\n",
    "Consider an experiment that is performed in two stages. If the first stage can be accomplished in $m$\n",
    "different ways and for each of these ways, the second stage can be accomplished in $n$ different ways, then there are total $mn$ different ways to accomplish the experiment.\n",
    "***\n",
    "- It is employed to determine the sample space.\n",
    "- useful for  tree diagrams.  \n",
    "\n",
    "#### The tree diagrams: \n",
    "Tree diagrams are a graphical way of listing all the possible outcomes. The outcomes are listed in an orderly fashion, so listing all of the possible outcomes is easier than just trying to make sure that you have them all listed."
   ]
  },
  {
   "cell_type": "markdown",
   "metadata": {
    "slideshow": {
     "slide_type": "subslide"
    }
   },
   "source": [
    "...retaking the example: Customers who purchase a certain make of car can order an engine in any of three sizes... \n",
    "</font><img src=\"images\\example6.png\" width=600px>"
   ]
  },
  {
   "cell_type": "markdown",
   "metadata": {
    "slideshow": {
     "slide_type": "subslide"
    }
   },
   "source": [
    "### Permutations and Combinations\n",
    "***\n",
    "#### Permutation $P$ (without repetition)\n",
    "- A permutation is an ordering of a collection of objects\n",
    "\n",
    "**e.g.** Permutations of the letters A, B, C: ABC, ACB, BAC, BCA, CAB, and CBA. With only three objects, it is easy to determine the number of permutations just by listing them all. But with a large number of objects this would not be feasible.\n",
    "\n",
    "A permutation of $n$ different objects is an ordering arrangement of this $n$ objects.\n",
    "$$P_{n}^{n}=n!.$$\n",
    "\n",
    "The number of wayswe can arrange $n$ distinct objects, taking them $r$ at a time, is\n",
    "$$P_{n}^{r}=\\frac{n!}{(n-r)!}.$$\n"
   ]
  },
  {
   "cell_type": "markdown",
   "metadata": {
    "slideshow": {
     "slide_type": "subslide"
    }
   },
   "source": [
    "#### Conbination $C$\n",
    "\n",
    "- Distinct groups of objects that can be selected, without regard to order, is called a combination.\n",
    "\n",
    "**e.g.**  Denoting the objects A, B, C, D, E. What is the number of possibilities of choose three objects from five?\n",
    "\n",
    "\n",
    "The number of different combinations of $n$ different objects that can be formed, taking them $r$ at a time, is\n",
    "$$C_{n}^{r}=\\frac{n!}{r!(n-r)!}.$$"
   ]
  },
  {
   "cell_type": "markdown",
   "metadata": {
    "slideshow": {
     "slide_type": "subslide"
    }
   },
   "source": [
    "##### More Examples \n",
    "\n",
    "**e.g.** How many ways can a committee of 5 people be chosen out of 9 people? (Combination)\n",
    "\n",
    "**e.g.** In how many ways can 10 people be seated on a bench if only 4 seats are available? (Permutation)\n",
    "\n",
    "**e.g.** A box contains 8 red, 3 white, and 9 blue balls. If 3 balls are drawn at random without replacement, determine the probability that (a) all 3 are red, (b) all 3 are white, (c) 2 are red and 1 is white.\n",
    "\n",
    "Let R$_1$ , R$_2$ , R$_3$ denote the events, “red ball on 1st draw”, “red ball on 2nd draw”, “red ball on 3rd draw,”\n",
    "respectively. Then R$_1$ $\\cap$ R$_2$ $\\cap$ R$_3$, denotes the event “all 3 balls drawn are red.” We therefore have, \n",
    "\n",
    "\n",
    "\\begin{align}\n",
    "\\text{P(all 3 are red)}&=\\frac{\\text{number of selections of 3 out of 8 red balls}}{\\text{number of selections of 3 out of 20 balls}}\\\\\n",
    "&=\\frac{C^{3}_{8}}{C^{3}_{20}}\\\\\n",
    "\\text{P(all 3 are red)}&=\\frac{14}{285}\n",
    "\\end{align}\n",
    "\n",
    "\n",
    "\n"
   ]
  },
  {
   "cell_type": "markdown",
   "metadata": {
    "slideshow": {
     "slide_type": "slide"
    }
   },
   "source": [
    "## Bayes' Rule\n",
    "***\n",
    "If A and B are two events, we have seen that in most cases P(A|B) = P(B|A). Bayes' rule provides a formula that allows us to calculate one of the conditional probabilities if we know the other one.\n",
    "\n",
    "\\begin{align}\n",
    "\\text{P(A|B)} &= \\frac{\\text{P(A} \\cap \\text{B)}}{\\text{P(B)}}, &  \\text{P(B|A)} &= \\frac{\\text{P(A} \\cap \\text{B)}}{\\text{P(A)}}\\\\\n",
    "\\end{align}\n",
    "but,\n",
    "$$\\text{P(A } \\cap \\text{B)}=\\text{P(B|A)}\\text{P(A)}\\\\$$\n",
    "so we have, \n",
    "$$\\text{P(A|B)} =\\frac{\\text{P(B|A)}\\text{P(A)}}{\\text{P(B)}}.$$\n",
    "\n",
    "General Case: Let A$_1$ , . . . , A$_n$ be mutually exclusive and exhaustive events with P(A$_i$) = 0 for each A$_i$ . Let B be any event with P(B)$\\neq0$. Then,\n",
    "\n",
    "<font color='red'>\n",
    "\\begin{equation}\n",
    "\\boxed{\n",
    "    \\text{P(A}_{k}\\text{|B)}=\\frac{\\text{P(B|A}_k)\\text{P(A}_k)}{\\sum_{i}\\text{P(B|A}_{i})\\text{P(A}_{i})}\n",
    "    }\n",
    "\\end{equation}\n"
   ]
  },
  {
   "cell_type": "markdown",
   "metadata": {},
   "source": [
    "**e.g.** The proportion of people in a given community who have a certain disease is 0.005. A test is available to diagnose the disease. If a person has the disease, the probability that the test will produce a positive signal is 0.99. If a person does not have the disease, the probability that the test will produce a positive signal is 0.01. If a person tests positive, **what is the probability that the person actually has the disease?**\n",
    "\n",
    "Let D represent the event that the person actually has the disease, and let $+$ represent the event that the test gives a positive signal. We wish to find P(D|$+$). We are given the following probabilities: P(D$_{1}$) $= 0.005$, P($+$|D$_{1}$) $= 0.99$ and P($+$|D$_{2}$) $= 0.01$.\n",
    "\n",
    "\\begin{align}\n",
    "\\text{P(D}_{1}|+)&=\\frac{\\text{P(}+\\text{|D}_{1}\\text{)P(D}_{1})}{\\sum_{i}\\text{P(+|D}_{i})\\text{P(D}_{i})}\\\\\n",
    "&=\\frac{\\text{P(}+\\text{|D}_{1}\\text{)P(D}_{1})}{\\text{P(+|D}_{i1})\\text{P(D}_{1})+\\text{P(+|D}_{2})\\text{P(D}_{2})}\\\\\n",
    "&=\\frac{(0.99)(0.005)}{(0.99)(0.005) + (0.01)(0.995)}\\\\\n",
    "\\text{P(D}_{1}|+)&=0.332\n",
    "\\end{align}"
   ]
  },
  {
   "cell_type": "code",
   "execution_count": null,
   "metadata": {},
   "outputs": [],
   "source": []
  }
 ],
 "metadata": {
  "celltoolbar": "Slideshow",
  "kernelspec": {
   "display_name": "Python 3",
   "language": "python",
   "name": "python3"
  },
  "language_info": {
   "codemirror_mode": {
    "name": "ipython",
    "version": 3
   },
   "file_extension": ".py",
   "mimetype": "text/x-python",
   "name": "python",
   "nbconvert_exporter": "python",
   "pygments_lexer": "ipython3",
   "version": "3.6.4"
  },
  "rise": {
   "height": "50%",
   "theme": "sky",
   "transition": "zoom",
   "width": "20%"
  }
 },
 "nbformat": 4,
 "nbformat_minor": 2
}
